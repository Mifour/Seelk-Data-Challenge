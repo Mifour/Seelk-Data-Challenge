{
 "cells": [
  {
   "cell_type": "markdown",
   "metadata": {},
   "source": [
    "# Seelk Data Challenge\n",
    "by Thomas Dufour"
   ]
  },
  {
   "cell_type": "markdown",
   "metadata": {},
   "source": [
    "## Introduction & context:\n",
    "\n",
    "This Notebook is my work on the Seelk's Data Challenge.\n",
    "The objective is to create a Machine Learning model that predicts which seller in concurrence to sell a product on Amazon will get the Buy-box and explain what are the most important insights in order to get the buy-box. \n",
    "This Buy-box is important because it assure the one who has it to sell much more. "
   ]
  },
  {
   "cell_type": "markdown",
   "metadata": {},
   "source": [
    "## Starting Point: The Data\n",
    "\n",
    "First of all, let's give a look to the data I received.\n",
    "\n",
    "It is a 600 000 lines long CSV file (values are separated with semi-colons). Each line is a product with its owned caracteristics."
   ]
  },
  {
   "cell_type": "code",
   "execution_count": 1,
   "metadata": {},
   "outputs": [
    {
     "data": {
      "text/html": [
       "<div>\n",
       "<style scoped>\n",
       "    .dataframe tbody tr th:only-of-type {\n",
       "        vertical-align: middle;\n",
       "    }\n",
       "\n",
       "    .dataframe tbody tr th {\n",
       "        vertical-align: top;\n",
       "    }\n",
       "\n",
       "    .dataframe thead th {\n",
       "        text-align: right;\n",
       "    }\n",
       "</style>\n",
       "<table border=\"1\" class=\"dataframe\">\n",
       "  <thead>\n",
       "    <tr style=\"text-align: right;\">\n",
       "      <th></th>\n",
       "      <th>offer</th>\n",
       "      <th>scraping_date</th>\n",
       "      <th>buy_box_owner</th>\n",
       "      <th>owner_merchant_id</th>\n",
       "      <th>price_currency</th>\n",
       "      <th>delivery_details</th>\n",
       "      <th>condition</th>\n",
       "      <th>seller_name</th>\n",
       "      <th>rating_text</th>\n",
       "      <th>products_details</th>\n",
       "      <th>fba_text</th>\n",
       "      <th>add_to_basket</th>\n",
       "      <th>url</th>\n",
       "      <th>offer_ranking</th>\n",
       "      <th>merchant_id</th>\n",
       "      <th>shipping_cost</th>\n",
       "      <th>is_global_store</th>\n",
       "      <th>is_prime</th>\n",
       "    </tr>\n",
       "  </thead>\n",
       "  <tbody>\n",
       "    <tr>\n",
       "      <th>0</th>\n",
       "      <td>7247</td>\n",
       "      <td>2018-05-31</td>\n",
       "      <td>Verkauf und Versand durch Die NaturApotheke. F...</td>\n",
       "      <td>A2YQFBJ9TJXWZ0</td>\n",
       "      <td>EUR 19,17</td>\n",
       "      <td>+ EUR 3,95 Versandkosten</td>\n",
       "      <td>Neu</td>\n",
       "      <td>Die NaturApotheke</td>\n",
       "      <td>5 von 5 Sternen 98% positiv in den letzten 12 ...</td>\n",
       "      <td>['Lieferung erfolgt 6.-8. Juni. Weitere Inform...</td>\n",
       "      <td>None</td>\n",
       "      <td>In den Einkaufswagen von Verkäufer Die NaturAp...</td>\n",
       "      <td>https://www.amazon.de/gp/offer-listing/B000M45...</td>\n",
       "      <td>1</td>\n",
       "      <td>A2YQFBJ9TJXWZ0</td>\n",
       "      <td>EUR 3,95</td>\n",
       "      <td>False</td>\n",
       "      <td>False</td>\n",
       "    </tr>\n",
       "    <tr>\n",
       "      <th>1</th>\n",
       "      <td>375109</td>\n",
       "      <td>2018-05-31</td>\n",
       "      <td>Verkauf und Versand durch Amazon. Geschenkverp...</td>\n",
       "      <td>1</td>\n",
       "      <td>EUR 17,50</td>\n",
       "      <td>+ EUR 17,90 Versandkosten</td>\n",
       "      <td>Neu</td>\n",
       "      <td>PICCOLO</td>\n",
       "      <td>5 von 5 Sternen 100% positiv in den letzten 12...</td>\n",
       "      <td>['Lieferung erfolgt 8.-13. Juni. Weitere Infor...</td>\n",
       "      <td>None</td>\n",
       "      <td>In den Einkaufswagen von Verkäufer PICCOLO und...</td>\n",
       "      <td>https://www.amazon.de/gp/offer-listing/B00AUV7...</td>\n",
       "      <td>9</td>\n",
       "      <td>A1OJ6JQSEK83CV</td>\n",
       "      <td>EUR 17,90</td>\n",
       "      <td>False</td>\n",
       "      <td>False</td>\n",
       "    </tr>\n",
       "    <tr>\n",
       "      <th>2</th>\n",
       "      <td>375109</td>\n",
       "      <td>2018-05-31</td>\n",
       "      <td>Verkauf und Versand durch Amazon. Geschenkverp...</td>\n",
       "      <td>1</td>\n",
       "      <td>EUR 20,09</td>\n",
       "      <td>+ EUR 13,06 Versandkosten</td>\n",
       "      <td>Neu</td>\n",
       "      <td>Brikoland</td>\n",
       "      <td>3 von 5 Sternen 57% positiv in den letzten 12 ...</td>\n",
       "      <td>['Lieferung erfolgt 13.-18. Juni. Weitere Info...</td>\n",
       "      <td>None</td>\n",
       "      <td>In den Einkaufswagen von Verkäufer Brikoland u...</td>\n",
       "      <td>https://www.amazon.de/gp/offer-listing/B00AUV7...</td>\n",
       "      <td>8</td>\n",
       "      <td>A14OYWBRW8YQ5Q</td>\n",
       "      <td>EUR 13,06</td>\n",
       "      <td>False</td>\n",
       "      <td>False</td>\n",
       "    </tr>\n",
       "    <tr>\n",
       "      <th>3</th>\n",
       "      <td>375109</td>\n",
       "      <td>2018-05-31</td>\n",
       "      <td>Verkauf und Versand durch Amazon. Geschenkverp...</td>\n",
       "      <td>1</td>\n",
       "      <td>EUR 22,90</td>\n",
       "      <td>+ EUR 10,00 Versandkosten</td>\n",
       "      <td>Neu</td>\n",
       "      <td>Qualazampapetshop</td>\n",
       "      <td>4,5 von 5 Sternen 86% positiv. (7 alle Bewertu...</td>\n",
       "      <td>['Lieferung erfolgt 15.-20. Juni. Weitere Info...</td>\n",
       "      <td>None</td>\n",
       "      <td>In den Einkaufswagen von Verkäufer Qualazampap...</td>\n",
       "      <td>https://www.amazon.de/gp/offer-listing/B00AUV7...</td>\n",
       "      <td>7</td>\n",
       "      <td>A1H4RFP0B0FMHY</td>\n",
       "      <td>EUR 10,00</td>\n",
       "      <td>False</td>\n",
       "      <td>False</td>\n",
       "    </tr>\n",
       "    <tr>\n",
       "      <th>4</th>\n",
       "      <td>375109</td>\n",
       "      <td>2018-05-31</td>\n",
       "      <td>Verkauf und Versand durch Amazon. Geschenkverp...</td>\n",
       "      <td>1</td>\n",
       "      <td>EUR 20,34</td>\n",
       "      <td>+ EUR 11,90 Versandkosten</td>\n",
       "      <td>Neu</td>\n",
       "      <td>Initpc</td>\n",
       "      <td>4 von 5 Sternen 79% positiv. (39 alle Bewertun...</td>\n",
       "      <td>['Lieferung erfolgt 8.-13. Juni. Weitere Infor...</td>\n",
       "      <td>None</td>\n",
       "      <td>In den Einkaufswagen von Verkäufer Initpc und ...</td>\n",
       "      <td>https://www.amazon.de/gp/offer-listing/B00AUV7...</td>\n",
       "      <td>6</td>\n",
       "      <td>A1VCQKXS62I5R</td>\n",
       "      <td>EUR 11,90</td>\n",
       "      <td>False</td>\n",
       "      <td>False</td>\n",
       "    </tr>\n",
       "  </tbody>\n",
       "</table>\n",
       "</div>"
      ],
      "text/plain": [
       "    offer scraping_date                                      buy_box_owner  \\\n",
       "0    7247    2018-05-31  Verkauf und Versand durch Die NaturApotheke. F...   \n",
       "1  375109    2018-05-31  Verkauf und Versand durch Amazon. Geschenkverp...   \n",
       "2  375109    2018-05-31  Verkauf und Versand durch Amazon. Geschenkverp...   \n",
       "3  375109    2018-05-31  Verkauf und Versand durch Amazon. Geschenkverp...   \n",
       "4  375109    2018-05-31  Verkauf und Versand durch Amazon. Geschenkverp...   \n",
       "\n",
       "  owner_merchant_id price_currency           delivery_details condition  \\\n",
       "0    A2YQFBJ9TJXWZ0      EUR 19,17   + EUR 3,95 Versandkosten       Neu   \n",
       "1                 1      EUR 17,50  + EUR 17,90 Versandkosten       Neu   \n",
       "2                 1      EUR 20,09  + EUR 13,06 Versandkosten       Neu   \n",
       "3                 1      EUR 22,90  + EUR 10,00 Versandkosten       Neu   \n",
       "4                 1      EUR 20,34  + EUR 11,90 Versandkosten       Neu   \n",
       "\n",
       "         seller_name                                        rating_text  \\\n",
       "0  Die NaturApotheke  5 von 5 Sternen 98% positiv in den letzten 12 ...   \n",
       "1            PICCOLO  5 von 5 Sternen 100% positiv in den letzten 12...   \n",
       "2          Brikoland  3 von 5 Sternen 57% positiv in den letzten 12 ...   \n",
       "3  Qualazampapetshop  4,5 von 5 Sternen 86% positiv. (7 alle Bewertu...   \n",
       "4             Initpc  4 von 5 Sternen 79% positiv. (39 alle Bewertun...   \n",
       "\n",
       "                                    products_details fba_text  \\\n",
       "0  ['Lieferung erfolgt 6.-8. Juni. Weitere Inform...     None   \n",
       "1  ['Lieferung erfolgt 8.-13. Juni. Weitere Infor...     None   \n",
       "2  ['Lieferung erfolgt 13.-18. Juni. Weitere Info...     None   \n",
       "3  ['Lieferung erfolgt 15.-20. Juni. Weitere Info...     None   \n",
       "4  ['Lieferung erfolgt 8.-13. Juni. Weitere Infor...     None   \n",
       "\n",
       "                                       add_to_basket  \\\n",
       "0  In den Einkaufswagen von Verkäufer Die NaturAp...   \n",
       "1  In den Einkaufswagen von Verkäufer PICCOLO und...   \n",
       "2  In den Einkaufswagen von Verkäufer Brikoland u...   \n",
       "3  In den Einkaufswagen von Verkäufer Qualazampap...   \n",
       "4  In den Einkaufswagen von Verkäufer Initpc und ...   \n",
       "\n",
       "                                                 url  offer_ranking  \\\n",
       "0  https://www.amazon.de/gp/offer-listing/B000M45...              1   \n",
       "1  https://www.amazon.de/gp/offer-listing/B00AUV7...              9   \n",
       "2  https://www.amazon.de/gp/offer-listing/B00AUV7...              8   \n",
       "3  https://www.amazon.de/gp/offer-listing/B00AUV7...              7   \n",
       "4  https://www.amazon.de/gp/offer-listing/B00AUV7...              6   \n",
       "\n",
       "      merchant_id shipping_cost  is_global_store  is_prime  \n",
       "0  A2YQFBJ9TJXWZ0      EUR 3,95            False     False  \n",
       "1  A1OJ6JQSEK83CV     EUR 17,90            False     False  \n",
       "2  A14OYWBRW8YQ5Q     EUR 13,06            False     False  \n",
       "3  A1H4RFP0B0FMHY     EUR 10,00            False     False  \n",
       "4   A1VCQKXS62I5R     EUR 11,90            False     False  "
      ]
     },
     "execution_count": 1,
     "metadata": {},
     "output_type": "execute_result"
    }
   ],
   "source": [
    "#Created on Thu Oct 11 18:39:03 2018, @author: dufour Thomas\n",
    "\n",
    "import numpy as np\n",
    "import pandas as pd\n",
    "\n",
    "df = pd.read_csv('seelk_data_extract.csv', sep=';')\n",
    "df.head()"
   ]
  },
  {
   "cell_type": "markdown",
   "metadata": {},
   "source": [
    "### First toughts about the data\n",
    "\n",
    "Every column isn't necessary, some have redundant information. Delivery_details has the same relevant information than shipping_cost but in a much more complicated manier. \n",
    "\n",
    "Also rating text isn't exploitable in this form, it must be transformed before we can use it. The currency value like 'EUR' won't be accepted by the machine learning model, the number has to be extracted. By extracting the currency device we do not loose any relevant information because the devise is the same inside a same offer group. "
   ]
  },
  {
   "cell_type": "markdown",
   "metadata": {},
   "source": [
    "### Who's the winner?\n",
    "\n",
    "Creating a machine learning model that actually predict which seller 'll win the buy box requires to know how to identify the winner. The dataset contains the information and the instruction text say *'The offer wins the Buy Box if the seller_name is in the buy_box_owner field'*. So, I have to check if the seller name is the same than the buy_box_owner. \n",
    "But there is a problem: the buy_box_owner field isn't exactly the same than any value of the group' seller_name field. The winner's name is contained inside a string. \n",
    "we can know if a seller's name is contained with:"
   ]
  },
  {
   "cell_type": "code",
   "execution_count": null,
   "metadata": {},
   "outputs": [],
   "source": [
    "if df['seller_name'][row] not in df['buy_box_owner'][row]:\n",
    "    print('True')"
   ]
  },
  {
   "cell_type": "markdown",
   "metadata": {},
   "source": [
    "Clearly, this method isn't optimised and will be a conflict source later.\n",
    "Fortunatly, there is a other way to check if a seller is the winner: checking for the ID. As every seller has an unique ID value, if a seller's ID is the owner_merchant_id, then this seller owns the buy-box.\n"
   ]
  },
  {
   "cell_type": "code",
   "execution_count": null,
   "metadata": {},
   "outputs": [],
   "source": [
    "if df.owner_merchant_id[row] == df.serller_id[row]:\n",
    "    #that's the winner!"
   ]
  },
  {
   "cell_type": "markdown",
   "metadata": {},
   "source": [
    "While testing hypothesis about how to determine the winner, I found the Amazon's ID is 1. \n",
    "Because Amazon seemed to win a lot of buy-box, I wanted to found the ratio of Amazon getting the buy-box."
   ]
  },
  {
   "cell_type": "code",
   "execution_count": 3,
   "metadata": {},
   "outputs": [
    {
     "name": "stdout",
     "output_type": "stream",
     "text": [
      "0.9149968207829957\n"
     ]
    }
   ],
   "source": [
    "i=0\n",
    "j=0\n",
    "for row in range(df.shape[0]):\n",
    "    if df['merchant_id'][row] == '1':\n",
    "        j +=1\n",
    "        if df['owner_merchant_id'][row] == '1':\n",
    "            i +=1\n",
    "if j==0:\n",
    "    j=1\n",
    "print(i/j)"
   ]
  },
  {
   "cell_type": "markdown",
   "metadata": {},
   "source": [
    "Fun fact: Amazon wins 91,5% of times it sells a product it-self."
   ]
  },
  {
   "cell_type": "markdown",
   "metadata": {},
   "source": [
    "And thanks to 'owner_merchant_id' and 'merchant_id', I don't have to use 'buy_box_owner' and 'seller_name'. We can drop it.\n",
    "In fact, there are a lot a columns we can drop:\n",
    "\n",
    "\n",
    "    fba_text: because there is no use here.\n",
    "\n",
    "    products_details: same.\n",
    "\n",
    "    add_to_basket: it's only the name of the button, it doesn't create any distinction between sellers.\n",
    "\n",
    "    condiction: all products are new except 7 offers over 2 products. So I just consider to get them like they were new.\n",
    "\n",
    "    url: it is quite random but it alway ends with 'new' even if the product is not."
   ]
  },
  {
   "cell_type": "markdown",
   "metadata": {},
   "source": [
    "### How to identify groups?\n",
    "\n",
    "An other thing trigered my attention: Some offers number appears manytime, but only one time a day maximun.\n",
    "I identify every single group by using a key madeo out of the offer and date. I first though to use a hash function but the calculation was a bit long and the result wasn't very useable, so I concatenate the offer value with the date."
   ]
  },
  {
   "cell_type": "code",
   "execution_count": 4,
   "metadata": {},
   "outputs": [],
   "source": [
    "#creating unique offer identifyer\n",
    "tmp = np.zeros((df.shape[0],1))\n",
    "Hoffer = pd.DataFrame(tmp, columns = ['Hoffer'])\n",
    "for i in range(len(Hoffer.Hoffer)):\n",
    "    Hoffer.Hoffer[i] = str(str(df['offer'][i]) + str(df['scraping_date'][i]))\n",
    "df.offer = Hoffer.Hoffer\n",
    "df = df.drop(labels = 'scraping_date', axis = 1)\n",
    "del Hoffer"
   ]
  },
  {
   "cell_type": "markdown",
   "metadata": {},
   "source": [
    "### Cleaning Data\n",
    "Before I can use any machine learning on this data, I need to clean it as possible. I must get rid of null values and I must transform the data into usable format.\n",
    "\n",
    "\n",
    "#### Extracting Rating Mark\n",
    "Because I think the rating for a product is significantly important, I want to keep it inside my dataframe and extracting the number of stars. \n",
    "When we look to values of rating_text, it has standart string structure."
   ]
  },
  {
   "cell_type": "code",
   "execution_count": 5,
   "metadata": {},
   "outputs": [
    {
     "data": {
      "text/plain": [
       "'5 von 5 Sternen 100% positiv in den letzten 12 Monaten. (1 Bewertungen insgesamt)'"
      ]
     },
     "execution_count": 5,
     "metadata": {},
     "output_type": "execute_result"
    }
   ],
   "source": [
    "df.rating_text[1]"
   ]
  },
  {
   "cell_type": "markdown",
   "metadata": {},
   "source": [
    "Here, many choice can be made. We can choose to keep the percentage value, or the number of stars, or considering some value with the number of votes. I personally choose to count the number of stars because we can clusterise offers on this criteria."
   ]
  },
  {
   "cell_type": "code",
   "execution_count": null,
   "metadata": {},
   "outputs": [],
   "source": [
    "#trying to replace rating_text by the rating %\n",
    "for i in range(len(df.rating_text)):\n",
    "    tmp = []\n",
    "    for s in str.split(str(df.rating_text[i])):\n",
    "        if s.isdigit():\n",
    "            tmp.append(int(s))\n",
    "    if not tmp:\n",
    "        df.iloc[i,3] = -1\n",
    "    else:\n",
    "        df.iloc[i,3] = tmp[0]"
   ]
  },
  {
   "cell_type": "markdown",
   "metadata": {},
   "source": [
    "#### Normalizing prices and filling null values\n",
    "The future model will only work if the data is in a exploitable format. This include extracting the digital value away from text and filling null values. \n",
    "Here, we have 'EUR 19,17' then '£ 38.50' (and many more..). We have to deal with the text but also the point or colon separator. \n",
    "\n",
    "Some rare price values are marked as 'None'. The instruction text warmed for the real-world non-perfect data... well, it is.\n",
    "I decided to assign them -1, as this value cannot be achieve otherwise. I choose to do this despite it can interfere in the future model performance because I have in mind to use the DecisionTreeClassifier (or decision tree). Those kind of model can separate samples on hard and arbitory values and managing this choice.\n",
    "\n",
    "I do the same for shipping_cost. If I don't detect anyprice, I assume there is not delivery fees."
   ]
  },
  {
   "cell_type": "code",
   "execution_count": null,
   "metadata": {},
   "outputs": [],
   "source": [
    "#norming the price format, we don't care about the currency because it doesn't change over one product\n",
    "for i in range(len(df.price_currency[:])):\n",
    "    tmp = ''.join([s for s in list(str(df.price_currency[i])) if s.isdigit()])\n",
    "    if tmp:\n",
    "        df.iloc[i,2] = int(tmp)/100\n",
    "    else:\n",
    "        df.iloc[i,2] = -1\n",
    "        \n",
    "for i in range(len(df.price_currency)):\n",
    "    if df.price_currency[i] == 'None' :\n",
    "        df.iloc[i, 2] = -1\n",
    "df.price_currency = df.price_currency.astype(float)\n",
    "\n",
    "#norming the price format, we don't care about the currency because it doesn't change over one product\n",
    "for i in range(len(df.shipping_cost[:])):\n",
    "    tmp = ''.join([s for s in list(str(df.shipping_cost[i])) if s.isdigit()])\n",
    "    if tmp:\n",
    "        df.iloc[i,6] = int(tmp)/100\n",
    "    else: \n",
    "        df.iloc[i,6] = 0\n",
    "\n",
    "df.rating_text = df.rating_text.astype(float)"
   ]
  },
  {
   "cell_type": "markdown",
   "metadata": {},
   "source": [
    "the line :\n",
    "```python\n",
    "''.join([s for s in list(str(df.price_currency[i])) if s.isdigit()])\n",
    "```\n",
    "seems like a bit complexed but it only concatenate string's characters that are digital. \n",
    "I could have used Regex but for better performance, i choose to do it in this quite pythonic way.\n",
    "\n",
    "Despite my efforts, this treatment takes a long time to be executed. I will use the saved results I get before writing this report, but it should be equivalent."
   ]
  },
  {
   "cell_type": "code",
   "execution_count": 6,
   "metadata": {},
   "outputs": [
    {
     "name": "stderr",
     "output_type": "stream",
     "text": [
      "C:\\Users\\dufou\\Anaconda3\\lib\\site-packages\\IPython\\core\\interactiveshell.py:2785: DtypeWarning: Columns (3) have mixed types. Specify dtype option on import or set low_memory=False.\n",
      "  interactivity=interactivity, compiler=compiler, result=result)\n"
     ]
    }
   ],
   "source": [
    "df = pd.read_csv(\"DataSave1.csv\")\n",
    "df= df.drop(labels= 'Unnamed: 0', axis=1)"
   ]
  },
  {
   "cell_type": "markdown",
   "metadata": {},
   "source": [
    "#### Guest who the winner, without knowing the group\n",
    "Machine learning models are create a such way they take only 1 line as input, here that means we can only give 1 offer a time.\n",
    "\n",
    "How can we know if the offer is going to have the buy-box ? this information depends on the whole offer group.\n",
    "It is like wanting to know if a sprinter is going to win the race without knowing how fast are other concurrents.\n",
    "\n",
    "A solution is a to give relevant informations on the group to every line. An offer will have a ranking of its rating_text value, same for price, the number of sellers inside the group, and so on...\n",
    "\n",
    "To continue the metaphore, it is  like each sprinter runs with a notebook containing the performance time of other runners inside his group."
   ]
  },
  {
   "cell_type": "code",
   "execution_count": null,
   "metadata": {},
   "outputs": [],
   "source": [
    "from threading import Thread\n",
    "\n",
    "#grouping the same offers together in order to get some stats on it\n",
    "df = df.assign(sprice = np.zeros((df.shape[0],1)) )\n",
    "df = df.assign(srating = np.zeros((df.shape[0],1)) )\n",
    "df = df.assign(nb_sellers = np.zeros((df.shape[0],1)) )\n",
    "\n",
    "\n",
    "grouped =list(df.groupby('offer'))\n",
    "tmp = grouped[1][1] #to access to the grouped's dataframe\n",
    "\n",
    "\n",
    "class Isolateur(Thread):\n",
    "    #\"\"\"Thread pour répartir les infos des paquets dans chaque ligne de df\"\"\"\n",
    "    def __init__(self, grouped):\n",
    "\n",
    "        Thread.__init__(self)\n",
    "\n",
    "        self.grouped = grouped\n",
    "\n",
    "    def run(self):\n",
    "\n",
    "        for group in grouped:\n",
    "            tmp = group[1]\n",
    "            nb_sellers = len(tmp)\n",
    "            sort = tmp.sort_values(by= 'price_currency')\n",
    "            score = 1\n",
    "            for index in sort.index:\n",
    "                df.iloc[index, 9] = score\n",
    "                score += 1\n",
    "            sort = tmp.sort_values(by= 'rating_text', ascending=False)\n",
    "            score = 1\n",
    "            for index in sort.index:\n",
    "                df.iloc[index, 10] = score\n",
    "                score +=1\n",
    "                df.iloc[index, 11] = nb_sellers\n",
    "            \n",
    "                \n",
    "\n",
    "thread_1 = Isolateur(grouped[:20000]) #chaque paquet s'occupe de 20 000 groupes\n",
    "thread_2 = Isolateur(grouped[20001:40000])\n",
    "thread_3 = Isolateur(grouped[40001:60000])\n",
    "thread_4 = Isolateur(grouped[60001:])\n",
    "\n",
    "thread_1.start()\n",
    "thread_2.start()\n",
    "thread_3.start()\n",
    "thread_4.start()\n",
    "\n",
    "thread_1.join()\n",
    "thread_2.join()\n",
    "thread_3.join()\n",
    "thread_4.join()\n",
    "\n",
    "df.to_csv('Gino.csv', sep=',')\n",
    "#it required so much efforts I had to give it a proper name\n"
   ]
  },
  {
   "cell_type": "code",
   "execution_count": 7,
   "metadata": {},
   "outputs": [],
   "source": [
    "df = pd.read_csv(\"Gino.csv\")"
   ]
  },
  {
   "cell_type": "markdown",
   "metadata": {},
   "source": [
    "This algorithm works wells and every iteration is quick, it is in O(n*t) time complexity, n the total number of offers and t the average seller number inside a group.\n",
    "\n",
    "Despite its performances, because we give it 600 000 offers, it takes a long time.... it lasts for hours. In order to get stuff done quicker, I parallerized the process in 4 different and independant threads. Because I have 4 cores inside my laptop, I threaded it in 4, reducing the time by 4. Using a server cpu with dozen of cores would reduce drastically the time consumption."
   ]
  },
  {
   "cell_type": "markdown",
   "metadata": {},
   "source": [
    "## The Machine Learning Model\n",
    "Just as the instruction text said: \"Your goal is to build a model which is able to predict which offer wins the Buy Box, and explain what are the most important parameters.\"\n",
    "\n",
    "I need to be able to predict if an offer will be in the buy-box or not and to explain what is my model doing.\n",
    "Many options were possible (Neural Networks, SVM,SGD classifiers, etc...) but I choose to use Decision Tree Classifiers because they are easily explainable and can be visualized.\n",
    "\n",
    "Machine learning models doesn't have to only train to beb performant, they have to tested on samples they didn't train on before. This is crucial because it prevent the model to overfit and be too specialized to the training set. Every set has its own irregularities, if the model overfits, what it learned doesn't generalizes to the testing set.\n",
    "\n",
    "So, to test my model, I splitted the samples in 2 set, the training set and testing set."
   ]
  },
  {
   "cell_type": "code",
   "execution_count": 12,
   "metadata": {},
   "outputs": [],
   "source": [
    "from sklearn import tree\n",
    "from matplotlib import pyplot\n",
    "import graphviz \n",
    "\n",
    "#Creating the result array\n",
    "Y = np.zeros((df.shape[0],1))\n",
    "for i in range(len(df)):\n",
    "    if df.owner_merchant_id[i] == df.merchant_id[i]:\n",
    "        Y[i] = 1\n",
    "X = df[:][:]\n",
    "X = X.drop(labels = 'Unnamed: 0', axis=1)\n",
    "X = X.drop(labels = 'owner_merchant_id', axis=1)\n",
    "X = X.drop(labels = 'merchant_id', axis=1) #because we cannot give to it the answer to easily\n",
    "X = X.drop(labels = 'offer', axis=1) #because it doesn't matter now\n"
   ]
  },
  {
   "cell_type": "code",
   "execution_count": 13,
   "metadata": {},
   "outputs": [
    {
     "data": {
      "image/png": "[encoded data removed]",
      "text/plain": [
       "<Figure size 432x288 with 1 Axes>"
      ]
     },
     "metadata": {},
     "output_type": "display_data"
    }
   ],
   "source": [
    "#Let's try to find to G spot\n",
    "Xtrain = X[:450000]\n",
    "Xtest = X[450001:]\n",
    "Ytrain = Y[:450000]\n",
    "Ytest = Y[450001:]\n",
    "\n",
    "max_deepth = 20\n",
    "trainE = np.zeros((max_deepth))\n",
    "testE = np.zeros((max_deepth))\n",
    "for i in range (max_deepth):\n",
    "    clf = tree.DecisionTreeClassifier(max_depth= i+1)\n",
    "    clf.fit(Xtrain,Ytrain)\n",
    "    predict = clf.predict(Xtest)\n",
    "    trainE[i] = clf.score(Xtrain,Ytrain)\n",
    "    testE[i] = clf.score(Xtest,Ytest)\n",
    "    \n",
    "\n",
    "pyplot.plot(trainE[:], label=\"training\")\n",
    "pyplot.plot(testE[:], label=\"testing\")\n",
    "# Add legend\n",
    "pyplot.legend(loc='lower right')\n",
    "# Add title and x, y labels\n",
    "pyplot.title(\"Evolution of Precision\", fontsize=16, fontweight='bold')\n",
    "pyplot.xlabel(\"Depth\")\n",
    "pyplot.ylabel(\"Precision\")\n",
    "pyplot.savefig(\"precision-depth.png\")\n",
    "pyplot.show()\n",
    "#14 seems to be a good max_depth"
   ]
  },
  {
   "cell_type": "markdown",
   "metadata": {},
   "source": [
    "Many parameters are important in Decision Tree Classifier like the Kernel function (here, it is Gini) and formost the tree's depth. \n",
    "\n",
    "I tested many depth with an automatic loop. \n",
    "The optimased parameter is the argmax of the test_precision. Here, I think 14 is the max depth before the model starts to overfit too much.\n",
    "\n",
    "This Decision tree has a overall precision of 98%, which means that 98% of its predictions are correct. It learned to guest which seller inside a group in going to have the buy-box :-D\n",
    "\n",
    "\n",
    "A usecase for this model would be the help sellers to get the buy-box by telling them what to do.\n",
    "\n",
    "This tree doesn't have the merchant_id, it doesn't know who is Amazon, but it is quite sure it learned to recognize Amazon. "
   ]
  },
  {
   "cell_type": "markdown",
   "metadata": {},
   "source": [
    "### The explaination\n",
    "To understand what is doing the model and what are the most important features, I created a smaller tree and created a visual representation."
   ]
  },
  {
   "cell_type": "code",
   "execution_count": 18,
   "metadata": {},
   "outputs": [
    {
     "name": "stdout",
     "output_type": "stream",
     "text": [
      "0.957921226342683\n"
     ]
    }
   ],
   "source": [
    "clf = tree.DecisionTreeClassifier(max_depth= 3)\n",
    "clf = clf.fit(X, Y)\n",
    "\n",
    "import graphviz \n",
    "dot_data = tree.export_graphviz(clf, out_file=None, \n",
    "                         feature_names=X.columns,  \n",
    "                         class_names='01',  \n",
    "                         filled=True, rounded=True,  \n",
    "                         special_characters=True)  \n",
    "graph = graphviz.Source(dot_data)  \n",
    "graph.render(\"Amazon3\") \n",
    "print(clf.score(X,Y))"
   ]
  },
  {
   "attachments": {
    "Amazon3.PNG": {
     "image/png": "[encoded data removed]"
    }
   },
   "cell_type": "markdown",
   "metadata": {},
   "source": [
    "![Amazon3.PNG](attachment:Amazon3.PNG)"
   ]
  },
  {
   "cell_type": "markdown",
   "metadata": {},
   "source": [
    "The tree starts form the top and split samples depending on the criteria the tree found out to be the most important. The most important criteriaes are on the top of the tree. The choosen criteria is written for each node.\n",
    "\n",
    "Definitely, having the best rating_text is very important.\n",
    "\n",
    "The blue box are the one where the positive evaluated samples are grouped, in orange, the ones negatively categorized.\n",
    "Here, blue means the offer has the buy-box and orange the offers that haven't."
   ]
  },
  {
   "cell_type": "markdown",
   "metadata": {},
   "source": [
    "### Going Further: The Random Forest\n",
    "When we use decision tree classifier, we can try to create a meta classifier of Decision Tree classifiers. This Classifier is composed of many random trees that have different parameters. Eventually, each tree inside has its own biais but the ensemble should be extremely resilient to over-interpretation and overfitting. "
   ]
  },
  {
   "cell_type": "code",
   "execution_count": 23,
   "metadata": {},
   "outputs": [
    {
     "name": "stderr",
     "output_type": "stream",
     "text": [
      "C:\\Users\\dufou\\Anaconda3\\lib\\site-packages\\ipykernel_launcher.py:23: DataConversionWarning: A column-vector y was passed when a 1d array was expected. Please change the shape of y to (n_samples,), for example using ravel().\n"
     ]
    },
    {
     "name": "stdout",
     "output_type": "stream",
     "text": [
      "[1.24500166e-01 1.19347835e-01 2.67497672e-01 5.21140288e-02\n",
      " 4.50055705e-07 1.96025063e-01 1.17880365e-01 3.62042262e-02\n",
      " 8.64301938e-02]\n",
      "training score: 0.9918017207979707\n",
      "testing score: 0.9735252657248398\n"
     ]
    }
   ],
   "source": [
    "#let's try to use random forest\n",
    "from sklearn.ensemble import RandomForestClassifier\n",
    "from sklearn.datasets import make_classification\n",
    "\n",
    "Y = np.zeros((df.shape[0],1))\n",
    "for i in range(len(df)):\n",
    "    if df.owner_merchant_id[i] == df.merchant_id[i]:\n",
    "        Y[i] = 1\n",
    "X = df[:][:]\n",
    "X = X.drop(labels = 'Unnamed: 0', axis=1)\n",
    "X = X.drop(labels = 'owner_merchant_id', axis=1)\n",
    "X = X.drop(labels = 'merchant_id', axis=1) #because we cannot give to it the answer to easily\n",
    "X = X.drop(labels = 'offer', axis=1) #because it doesn't matter now\n",
    "Xtrain = X[:450000]\n",
    "Xtest = X[450001:]\n",
    "Ytrain = Y[:450000]\n",
    "Ytest = Y[450001:]\n",
    "\n",
    "RFclf = RandomForestClassifier(n_estimators=X.shape[1],\n",
    "                              random_state=0)\n",
    "            #the depth is automatic\n",
    "\n",
    "RFclf.fit(Xtrain, Ytrain)\n",
    "RFscore = RFclf.score( Xtest ,Ytest)\n",
    "\n",
    "\n",
    "print(RFclf.feature_importances_)\n",
    "print(\"training score:\", RFclf.score(X,Y))\n",
    "print(\"testing score:\", RFscore)\n"
   ]
  }
 ],
 "metadata": {
  "kernelspec": {
   "display_name": "Python 3",
   "language": "python",
   "name": "python3"
  },
  "language_info": {
   "codemirror_mode": {
    "name": "ipython",
    "version": 3
   },
   "file_extension": ".py",
   "mimetype": "text/x-python",
   "name": "python",
   "nbconvert_exporter": "python",
   "pygments_lexer": "ipython3",
   "version": "3.6.5"
  }
 },
 "nbformat": 4,
 "nbformat_minor": 2
}
